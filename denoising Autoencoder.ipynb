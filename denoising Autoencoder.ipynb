{
  "nbformat": 4,
  "nbformat_minor": 0,
  "metadata": {
    "colab": {
      "name": "hw5_dAE.ipynb",
      "provenance": [],
      "collapsed_sections": []
    },
    "kernelspec": {
      "name": "python3",
      "display_name": "Python 3"
    }
  },
  "cells": [
    {
      "cell_type": "code",
      "metadata": {
        "id": "n9-zHaf4iXbU",
        "colab_type": "code",
        "colab": {}
      },
      "source": [
        "import torch\n",
        "import torchvision\n",
        "from torchvision import transforms\n",
        "import numpy as np\n",
        "import matplotlib.pyplot as plt\n",
        "import torch.nn as nn\n",
        "import torch.nn.functional as fun\n",
        "import torch.optim as optim"
      ],
      "execution_count": 0,
      "outputs": []
    },
    {
      "cell_type": "code",
      "metadata": {
        "id": "rYduDMNwjQGx",
        "colab_type": "code",
        "colab": {}
      },
      "source": [
        "generic_transform = transforms.Compose([transforms.ToTensor()])\n",
        "mnist_train = torchvision.datasets.MNIST(root='./data',train=True,transform=generic_transform,download=True)\n",
        "mnist_test = torchvision.datasets.MNIST(root='./data',train=False,transform=generic_transform,download=True)"
      ],
      "execution_count": 0,
      "outputs": []
    },
    {
      "cell_type": "code",
      "metadata": {
        "id": "RCN630FN6HXs",
        "colab_type": "code",
        "colab": {
          "base_uri": "https://localhost:8080/",
          "height": 260
        },
        "outputId": "31e849d7-d052-4dba-f151-a0adecaa96a2"
      },
      "source": [
        "class Net(nn.Module):\n",
        "  def __init__(self):\n",
        "    super(Net,self).__init__()\n",
        "    self.fc1 = nn.Linear(784,400)\n",
        "    self.fc2 = nn.Linear(400,20)\n",
        "    self.fc3 = nn.Linear(20,400)\n",
        "    self.fc4 = nn.Linear(400,784)\n",
        "\n",
        "  def forward(self,x):\n",
        "    #encoder\n",
        "    x=x.view(-1,self.flatten(x))\n",
        "    x=fun.relu(self.fc1(x))\n",
        "    x=fun.relu(self.fc2(x))\n",
        "    #decoder\n",
        "    x=fun.relu(self.fc3(x))\n",
        "    x=fun.sigmoid(self.fc4(x))\n",
        "    return x\n",
        "\n",
        "  def flatten(self,x):\n",
        "    size = x.size()[1:]\n",
        "    num_features=1\n",
        "    for s in size:\n",
        "      num_features *= s\n",
        "    return num_features\n",
        "\n",
        "net = Net()\n",
        "print(net)\n",
        "params = list(net.parameters())\n",
        "for p in params:\n",
        "  print(p.shape)\n"
      ],
      "execution_count": 106,
      "outputs": [
        {
          "output_type": "stream",
          "text": [
            "Net(\n",
            "  (fc1): Linear(in_features=784, out_features=400, bias=True)\n",
            "  (fc2): Linear(in_features=400, out_features=20, bias=True)\n",
            "  (fc3): Linear(in_features=20, out_features=400, bias=True)\n",
            "  (fc4): Linear(in_features=400, out_features=784, bias=True)\n",
            ")\n",
            "torch.Size([400, 784])\n",
            "torch.Size([400])\n",
            "torch.Size([20, 400])\n",
            "torch.Size([20])\n",
            "torch.Size([400, 20])\n",
            "torch.Size([400])\n",
            "torch.Size([784, 400])\n",
            "torch.Size([784])\n"
          ],
          "name": "stdout"
        }
      ]
    },
    {
      "cell_type": "code",
      "metadata": {
        "id": "yqRafZvhDpRt",
        "colab_type": "code",
        "colab": {}
      },
      "source": [
        "def gaussian(x, mean, stddev):\n",
        "  noise = torch.FloatTensor(x.data.new(x.size()).normal_(mean, stddev))\n",
        "  return torch.clamp(x + noise,0,1)\n",
        "def flatten(x):\n",
        "  size = x.size()[1:]\n",
        "  num_features=1\n",
        "  for s in size:\n",
        "    num_features *= s\n",
        "  return num_features"
      ],
      "execution_count": 0,
      "outputs": []
    },
    {
      "cell_type": "code",
      "metadata": {
        "id": "NOalve9Y9jHW",
        "colab_type": "code",
        "colab": {
          "base_uri": "https://localhost:8080/",
          "height": 243
        },
        "outputId": "5374aa8a-7b97-4a17-d37e-7a7643432b79"
      },
      "source": [
        "net=Net()\n",
        "criterion = nn.BCELoss()\n",
        "optimizer = optim.Adam(net.parameters(),lr=0.001)\n",
        "n_epochs = 10\n",
        "delta = 0.0005\n",
        "grad = 0\n",
        "pre_grad = -1\n",
        "pre_loss = -10\n",
        "losses =[]\n",
        "for epoch in range(n_epochs):\n",
        "  if( abs(grad-pre_grad) < delta ):\n",
        "    print(f'Model converged at epoch={epoch}')\n",
        "    break\n",
        "  loss_i=0\n",
        "  trainloader=torch.utils.data.DataLoader(mnist_train, batch_size=64, shuffle=True)\n",
        "  for i, data in enumerate(trainloader,0):\n",
        "    inputs, _ = data\n",
        "    noisy_inputs=gaussian(inputs,0,0.5)\n",
        "    optimizer.zero_grad()\n",
        "    outputs= net(noisy_inputs)\n",
        "    loss = criterion(outputs,inputs.view(-1,flatten(inputs)))\n",
        "    loss.backward()\n",
        "    optimizer.step()\n",
        "    pre_grad = grad\n",
        "    grad = loss.item()-pre_loss\n",
        "    pre_loss = loss.item()\n",
        "    loss_i+=np.round(loss.item()*inputs.size(0)/len(trainloader),4)\n",
        "  losses.append(loss_i)\n",
        "  print(f'epoch: {epoch+1}, loss: {loss_i}')\n",
        "print(f'Finished Training at epoch {epoch+1}')\n",
        "#saving model\n",
        "PATH = './hw5-dAE.pth'\n",
        "torch.save(net.state_dict(), PATH)"
      ],
      "execution_count": 112,
      "outputs": [
        {
          "output_type": "stream",
          "text": [
            "/usr/local/lib/python3.6/dist-packages/torch/nn/functional.py:1351: UserWarning: nn.functional.sigmoid is deprecated. Use torch.sigmoid instead.\n",
            "  warnings.warn(\"nn.functional.sigmoid is deprecated. Use torch.sigmoid instead.\")\n"
          ],
          "name": "stderr"
        },
        {
          "output_type": "stream",
          "text": [
            "epoch: 1, loss: 11.822000000000008\n",
            "epoch: 2, loss: 9.476400000000027\n",
            "epoch: 3, loss: 9.020599999999977\n",
            "epoch: 4, loss: 8.757199999999989\n",
            "epoch: 5, loss: 8.586699999999999\n",
            "epoch: 6, loss: 8.465700000000007\n",
            "epoch: 7, loss: 8.371100000000018\n",
            "epoch: 8, loss: 8.299800000000024\n",
            "epoch: 9, loss: 8.238300000000013\n",
            "epoch: 10, loss: 8.196800000000021\n",
            "Finished Training at epoch 10\n"
          ],
          "name": "stdout"
        }
      ]
    },
    {
      "cell_type": "code",
      "metadata": {
        "id": "gkHNQhHhIEOz",
        "colab_type": "code",
        "colab": {
          "base_uri": "https://localhost:8080/",
          "height": 282
        },
        "outputId": "a73d1218-8a07-40af-b59e-5dcae7f0cc4a"
      },
      "source": [
        "plt.plot(range(epoch+1),losses)"
      ],
      "execution_count": 109,
      "outputs": [
        {
          "output_type": "execute_result",
          "data": {
            "text/plain": [
              "[<matplotlib.lines.Line2D at 0x7f57264de160>]"
            ]
          },
          "metadata": {
            "tags": []
          },
          "execution_count": 109
        },
        {
          "output_type": "display_data",
          "data": {
            "image/png": "[encoded data removed]",
            "text/plain": [
              "<Figure size 432x288 with 1 Axes>"
            ]
          },
          "metadata": {
            "tags": []
          }
        }
      ]
    },
    {
      "cell_type": "code",
      "metadata": {
        "id": "p-WR64_JIIwG",
        "colab_type": "code",
        "colab": {
          "base_uri": "https://localhost:8080/",
          "height": 86
        },
        "outputId": "f43cc294-58b2-47eb-f64d-cdc83014203b"
      },
      "source": [
        "print(loss.grad_fn)  # Crossentropy\n",
        "print(loss.grad_fn.next_functions[0][0])  # Softmax\n",
        "print(loss.grad_fn.next_functions[0][0].next_functions[0][0])  # FC2\n",
        "print(loss.grad_fn.next_functions[0][0].next_functions[0][0].next_functions[0][0])  # ReLU"
      ],
      "execution_count": 113,
      "outputs": [
        {
          "output_type": "stream",
          "text": [
            "<BinaryCrossEntropyBackward object at 0x7f5725dea320>\n",
            "<SigmoidBackward object at 0x7f5726400320>\n",
            "<AddmmBackward object at 0x7f5725dea320>\n",
            "<AccumulateGrad object at 0x7f57264001d0>\n"
          ],
          "name": "stdout"
        }
      ]
    },
    {
      "cell_type": "code",
      "metadata": {
        "id": "Gp7_ffGfNldr",
        "colab_type": "code",
        "colab": {
          "base_uri": "https://localhost:8080/",
          "height": 303
        },
        "outputId": "269d2432-40f5-49c9-c06e-390af38da0cc"
      },
      "source": [
        "testloader=torch.utils.data.DataLoader(mnist_test, batch_size=64, shuffle=False)\n",
        "testnet = Net()\n",
        "testnet.load_state_dict(torch.load(PATH))\n",
        "itr = iter(testloader)\n",
        "itr = iter(itr)\n",
        "inputs,_ = itr.next()\n",
        "test_x = gaussian(inputs,0,0.5)\n",
        "outputs = testnet(test_x)\n",
        "output = outputs.view(64, 1, 28, 28)\n",
        "output = output.detach().numpy()\n",
        "fig, axes = plt.subplots(nrows=2, ncols=5, sharex=True, sharey=True, figsize=(25,4))\n",
        "\n",
        "# input images on top row, reconstructions on bottom\n",
        "for noisy_imgs, row in zip([test_x, output], axes):\n",
        "    for img, ax in zip(noisy_imgs, row):\n",
        "        ax.imshow(np.squeeze(img), cmap='gray')"
      ],
      "execution_count": 115,
      "outputs": [
        {
          "output_type": "stream",
          "text": [
            "/usr/local/lib/python3.6/dist-packages/torch/nn/functional.py:1351: UserWarning: nn.functional.sigmoid is deprecated. Use torch.sigmoid instead.\n",
            "  warnings.warn(\"nn.functional.sigmoid is deprecated. Use torch.sigmoid instead.\")\n"
          ],
          "name": "stderr"
        },
        {
          "output_type": "display_data",
          "data": {
            "image/png": "[encoded data removed]",
            "text/plain": [
              "<Figure size 1800x288 with 10 Axes>"
            ]
          },
          "metadata": {
            "tags": []
          }
        }
      ]
    }
  ]
}