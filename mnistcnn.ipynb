{
  "nbformat": 4,
  "nbformat_minor": 0,
  "metadata": {
    "colab": {
      "name": "hw3_mnistcnn.ipynb",
      "provenance": [],
      "collapsed_sections": []
    },
    "kernelspec": {
      "name": "python3",
      "display_name": "Python 3"
    },
    "accelerator": "GPU"
  },
  "cells": [
    {
      "cell_type": "markdown",
      "metadata": {
        "id": "xcZf3sBwPVZp",
        "colab_type": "text"
      },
      "source": [
        "# Step-by-step tutorial to implement CNN on MNIST data using PyTorch"
      ]
    },
    {
      "cell_type": "markdown",
      "metadata": {
        "id": "0ljGv8MPPt9f",
        "colab_type": "text"
      },
      "source": [
        "\n",
        "\n",
        "\n",
        "## First, import required packages\n",
        "\n",
        "\n",
        "\n",
        "\n",
        "\n",
        "\n",
        "\n"
      ]
    },
    {
      "cell_type": "code",
      "metadata": {
        "id": "gtmEvz1lxcJg",
        "colab_type": "code",
        "colab": {}
      },
      "source": [
        "import torch\n",
        "import torchvision #popular datasets, model architectures, and common image transformations\n",
        "from torchvision import transforms # needed for converting images to tensor and data pre-processing\n",
        "import torch.nn as nn #Required for model - layers with parameters and without input\n",
        "import torch.nn.functional as fun #required for layers with input and without parameters\n",
        "import numpy as np\n",
        "import torch.optim as optim #Required for optimizers like SGD, Adam\n",
        "import matplotlib.pyplot as plt #Plotting library\n",
        "import time #Measure model performance"
      ],
      "execution_count": 0,
      "outputs": []
    },
    {
      "cell_type": "markdown",
      "metadata": {
        "id": "QyC_rMFNPqJt",
        "colab_type": "text"
      },
      "source": [
        "\n",
        "\n",
        "## Import MNIST dataset from torchvision and normalize it with transforms\n",
        "\n"
      ]
    },
    {
      "cell_type": "code",
      "metadata": {
        "id": "wC2QLe5hs1Ln",
        "colab_type": "code",
        "outputId": "e5fa09a8-5e1f-4ed8-fd05-c843ea65ac0d",
        "colab": {
          "base_uri": "https://localhost:8080/",
          "height": 260
        }
      },
      "source": [
        "#Converting images to tensor and normalizing them\n",
        "generic_transform = transforms.Compose([\n",
        "    transforms.ToTensor(), transforms.Normalize((0.5,),(0.5,))\n",
        "])\n",
        "#importing mnist data\n",
        "trainset = torchvision.datasets.MNIST(root='./data', train=True, download=True,transform=generic_transform)\n",
        "testset = torchvision.datasets.MNIST(root='./data', train=False, download=True,transform=generic_transform)"
      ],
      "execution_count": 4,
      "outputs": [
        {
          "output_type": "stream",
          "text": [
            "\r0it [00:00, ?it/s]"
          ],
          "name": "stderr"
        },
        {
          "output_type": "stream",
          "text": [
            "Downloading http://yann.lecun.com/exdb/mnist/train-images-idx3-ubyte.gz to ./data/MNIST/raw/train-images-idx3-ubyte.gz\n"
          ],
          "name": "stdout"
        },
        {
          "output_type": "stream",
          "text": [
            "9920512it [00:01, 9538578.08it/s]                            \n"
          ],
          "name": "stderr"
        },
        {
          "output_type": "stream",
          "text": [
            "Extracting ./data/MNIST/raw/train-images-idx3-ubyte.gz to ./data/MNIST/raw\n"
          ],
          "name": "stdout"
        },
        {
          "output_type": "stream",
          "text": [
            "  0%|          | 0/28881 [00:00<?, ?it/s]"
          ],
          "name": "stderr"
        },
        {
          "output_type": "stream",
          "text": [
            "Downloading http://yann.lecun.com/exdb/mnist/train-labels-idx1-ubyte.gz to ./data/MNIST/raw/train-labels-idx1-ubyte.gz\n"
          ],
          "name": "stdout"
        },
        {
          "output_type": "stream",
          "text": [
            "32768it [00:00, 137744.47it/s]           \n",
            "  0%|          | 0/1648877 [00:00<?, ?it/s]"
          ],
          "name": "stderr"
        },
        {
          "output_type": "stream",
          "text": [
            "Extracting ./data/MNIST/raw/train-labels-idx1-ubyte.gz to ./data/MNIST/raw\n",
            "Downloading http://yann.lecun.com/exdb/mnist/t10k-images-idx3-ubyte.gz to ./data/MNIST/raw/t10k-images-idx3-ubyte.gz\n"
          ],
          "name": "stdout"
        },
        {
          "output_type": "stream",
          "text": [
            "1654784it [00:00, 2250568.31it/s]                            \n",
            "0it [00:00, ?it/s]"
          ],
          "name": "stderr"
        },
        {
          "output_type": "stream",
          "text": [
            "Extracting ./data/MNIST/raw/t10k-images-idx3-ubyte.gz to ./data/MNIST/raw\n",
            "Downloading http://yann.lecun.com/exdb/mnist/t10k-labels-idx1-ubyte.gz to ./data/MNIST/raw/t10k-labels-idx1-ubyte.gz\n"
          ],
          "name": "stdout"
        },
        {
          "output_type": "stream",
          "text": [
            "8192it [00:00, 52690.18it/s]            \n"
          ],
          "name": "stderr"
        },
        {
          "output_type": "stream",
          "text": [
            "Extracting ./data/MNIST/raw/t10k-labels-idx1-ubyte.gz to ./data/MNIST/raw\n",
            "Processing...\n",
            "Done!\n"
          ],
          "name": "stdout"
        }
      ]
    },
    {
      "cell_type": "markdown",
      "metadata": {
        "id": "L98mAXxVSEpi",
        "colab_type": "text"
      },
      "source": [
        "\n",
        "\n",
        "### Create model and add layers to the class. \n",
        "*   You can obtain no. of parameters in the model when you add layers to the class variables\n",
        "\n"
      ]
    },
    {
      "cell_type": "code",
      "metadata": {
        "id": "GluUnrNrMthe",
        "colab_type": "code",
        "colab": {}
      },
      "source": [
        "class Net(nn.Module):\n",
        "  def __init__(self):   \n",
        "    super(Net, self).__init__()\n",
        "    self.conv1 = nn.Conv2d(1,20,3)\n",
        "    self.fc1=nn.Linear(13*13*20,128)\n",
        "    self.fc2=nn.Linear(128,10)\n",
        "  \n",
        "  def forward(self,x):\n",
        "    x=fun.relu(fun.max_pool2d(self.conv1(x),(2,2)))\n",
        "    x = x.view(-1, self.num_flat_features(x))\n",
        "    x=fun.relu(self.fc1(x))\n",
        "    x=fun.softmax(self.fc2(x))\n",
        "    return x\n",
        "  \n",
        "  def num_flat_features(self, x):\n",
        "        size = x.size()[1:]  # all dimensions except the batch dimension\n",
        "        num_features = 1\n",
        "        for s in size:\n",
        "            num_features *= s\n",
        "        return num_features\n"
      ],
      "execution_count": 0,
      "outputs": []
    },
    {
      "cell_type": "markdown",
      "metadata": {
        "id": "21vOlE5qVJ2I",
        "colab_type": "text"
      },
      "source": [
        "### **Model Architecture**\n",
        "*   Input:  1-channel input, size 28x28\n",
        "*   Convolution layer:  Convolution kernel size is (3, 3) with stride as 1.  Input channels - 1; Output channels - 20\n",
        "\n",
        "*   Max-pool:  2x2 max pool\n",
        "*   ReLu Layer\n",
        "*   Flatten input for feed to fully connected layers\n",
        "*   Fully connected layer 1:  flattened input with bias; output - 128\n",
        "*   ReLu Layer\n",
        "*   Fully connected layer 2:  input - 128; output - 10\n",
        "*   Softmax layer"
      ]
    },
    {
      "cell_type": "markdown",
      "metadata": {
        "id": "jc7IbHBxS63Q",
        "colab_type": "text"
      },
      "source": [
        "\n",
        "### Do training in batches till the model converges. We used cross entropy as loss function and SGD as optimizer here \n"
      ]
    },
    {
      "cell_type": "code",
      "metadata": {
        "id": "_pUpRNLPhMZN",
        "colab_type": "code",
        "outputId": "f0eea90f-16d8-4aa6-c85e-fbbe36a04939",
        "colab": {
          "base_uri": "https://localhost:8080/",
          "height": 903
        }
      },
      "source": [
        "net = Net()\n",
        "print(net)\n",
        "criterion = nn.CrossEntropyLoss()\n",
        "optimizer = optim.SGD(net.parameters(), lr=0.09)\n",
        "n_epochs = 50\n",
        "learning_rate=0.01\n",
        "accuracy=[]\n",
        "losses =[]\n",
        "delta = 0.0005\n",
        "grad = 0\n",
        "pre_grad = -1\n",
        "pre_loss = -10\n",
        "for epoch in range(n_epochs):\n",
        "  if( abs(grad-pre_grad) < delta ):\n",
        "      print(f'Model converged at epoch={epoch}')\n",
        "      break\n",
        "  cost=0\n",
        "  total=0\n",
        "  correct=0\n",
        "  trainloader=torch.utils.data.DataLoader(trainset, batch_size=32, shuffle=True)\n",
        "  for i, data in enumerate(trainloader, 0):\n",
        "    inputs, labels = data\n",
        "    optimizer.zero_grad()\n",
        "    outputs = net(inputs)\n",
        "    loss=criterion(outputs, labels)\n",
        "    pre_grad = grad\n",
        "    grad = loss-pre_loss\n",
        "    pre_loss = loss\n",
        "    loss.backward()\n",
        "    optimizer.step()\n",
        "    _, predicted = torch.max(outputs.data, 1)\n",
        "    total += labels.size(0)\n",
        "    correct += (predicted == labels).sum().item()\n",
        "    cost+=loss.item()\n",
        "    if(i%1000 == 0):\n",
        "      print(f'epoch: {epoch+1}, batch: {i}, loss: {cost/(i+1)}')\n",
        "  losses.append(cost/i)\n",
        "  print(f'epoch: {epoch+1}, batch: {i}, loss: {cost/(i+1)}, Accuracy:  {100 * correct / total}')\n",
        "  accuracy.append(100 * correct / total)\n",
        "print(f'Finished Training at epoch {epoch}')\n",
        "#saving model\n",
        "PATH = './mnist-cnn.pth'\n",
        "torch.save(net.state_dict(), PATH)"
      ],
      "execution_count": 6,
      "outputs": [
        {
          "output_type": "stream",
          "text": [
            "Net(\n",
            "  (conv1): Conv2d(1, 20, kernel_size=(3, 3), stride=(1, 1))\n",
            "  (fc1): Linear(in_features=3380, out_features=128, bias=True)\n",
            "  (fc2): Linear(in_features=128, out_features=10, bias=True)\n",
            ")\n",
            "epoch: 1, batch: 0, loss: 2.306314706802368\n"
          ],
          "name": "stdout"
        },
        {
          "output_type": "stream",
          "text": [
            "/usr/local/lib/python3.6/dist-packages/ipykernel_launcher.py:12: UserWarning: Implicit dimension choice for softmax has been deprecated. Change the call to include dim=X as an argument.\n",
            "  if sys.path[0] == '':\n"
          ],
          "name": "stderr"
        },
        {
          "output_type": "stream",
          "text": [
            "epoch: 1, batch: 1000, loss: 1.7785596284237537\n",
            "epoch: 1, batch: 1874, loss: 1.7014689316431681, Accuracy:  76.99\n",
            "epoch: 2, batch: 0, loss: 1.6252609491348267\n",
            "epoch: 2, batch: 1000, loss: 1.5939825535058738\n",
            "epoch: 2, batch: 1874, loss: 1.5724908984502157, Accuracy:  89.25166666666667\n",
            "epoch: 3, batch: 0, loss: 1.6541833877563477\n",
            "epoch: 3, batch: 1000, loss: 1.4982406316579997\n",
            "epoch: 3, batch: 1874, loss: 1.496001358985901, Accuracy:  96.93\n",
            "epoch: 4, batch: 0, loss: 1.4936269521713257\n",
            "epoch: 4, batch: 1000, loss: 1.4871749538522618\n",
            "epoch: 4, batch: 1874, loss: 1.486876365661621, Accuracy:  97.67666666666666\n",
            "epoch: 5, batch: 0, loss: 1.4915798902511597\n",
            "epoch: 5, batch: 1000, loss: 1.4829493139411782\n",
            "epoch: 5, batch: 1874, loss: 1.4822411312103272, Accuracy:  98.10166666666667\n",
            "epoch: 6, batch: 0, loss: 1.4705747365951538\n",
            "epoch: 6, batch: 1000, loss: 1.4791709106047075\n",
            "epoch: 6, batch: 1874, loss: 1.479134307161967, Accuracy:  98.38166666666666\n",
            "epoch: 7, batch: 0, loss: 1.542235255241394\n",
            "epoch: 7, batch: 1000, loss: 1.4776187699276966\n",
            "epoch: 7, batch: 1874, loss: 1.4768357009251913, Accuracy:  98.61\n",
            "epoch: 8, batch: 0, loss: 1.474535584449768\n",
            "epoch: 8, batch: 1000, loss: 1.4743598181527335\n",
            "epoch: 8, batch: 1874, loss: 1.4750442262013754, Accuracy:  98.75666666666666\n",
            "epoch: 9, batch: 0, loss: 1.4614167213439941\n",
            "epoch: 9, batch: 1000, loss: 1.4731333473702888\n",
            "epoch: 9, batch: 1874, loss: 1.4735760281880697, Accuracy:  98.905\n",
            "epoch: 10, batch: 0, loss: 1.461273431777954\n",
            "epoch: 10, batch: 1000, loss: 1.4718060925766663\n",
            "epoch: 10, batch: 1874, loss: 1.4723155948638915, Accuracy:  99.01\n",
            "epoch: 11, batch: 0, loss: 1.4620048999786377\n",
            "epoch: 11, batch: 1000, loss: 1.470837768022116\n",
            "epoch: 11, batch: 1874, loss: 1.4712522460301718, Accuracy:  99.09833333333333\n",
            "epoch: 12, batch: 0, loss: 1.4632092714309692\n",
            "epoch: 12, batch: 1000, loss: 1.470393688647778\n",
            "epoch: 12, batch: 1874, loss: 1.4700646214167277, Accuracy:  99.205\n",
            "epoch: 13, batch: 0, loss: 1.4678000211715698\n",
            "epoch: 13, batch: 1000, loss: 1.4691648308213774\n",
            "epoch: 13, batch: 1874, loss: 1.469517951329549, Accuracy:  99.26333333333334\n",
            "epoch: 14, batch: 0, loss: 1.4923007488250732\n",
            "epoch: 14, batch: 1000, loss: 1.4687426840508735\n",
            "epoch: 14, batch: 1874, loss: 1.4688921477635701, Accuracy:  99.325\n",
            "Model converged at epoch=14\n",
            "Finished Training at epoch 14\n"
          ],
          "name": "stdout"
        }
      ]
    },
    {
      "cell_type": "code",
      "metadata": {
        "id": "DI3WX4AHAfwa",
        "colab_type": "code",
        "outputId": "a1c9028a-b6a6-4e32-f211-72f1b8e17d62",
        "colab": {
          "base_uri": "https://localhost:8080/",
          "height": 282
        }
      },
      "source": [
        "plt.plot(range(epoch),accuracy,label='Accuracy vs Epoch')"
      ],
      "execution_count": 7,
      "outputs": [
        {
          "output_type": "execute_result",
          "data": {
            "text/plain": [
              "[<matplotlib.lines.Line2D at 0x7f088b103ba8>]"
            ]
          },
          "metadata": {
            "tags": []
          },
          "execution_count": 7
        },
        {
          "output_type": "display_data",
          "data": {
            "image/png": "[encoded data removed]",
            "text/plain": [
              "<Figure size 432x288 with 1 Axes>"
            ]
          },
          "metadata": {
            "tags": []
          }
        }
      ]
    },
    {
      "cell_type": "code",
      "metadata": {
        "id": "wzpwVOm6Cauv",
        "colab_type": "code",
        "outputId": "93362d26-ed4f-4976-cefa-377d4196eae7",
        "colab": {
          "base_uri": "https://localhost:8080/",
          "height": 282
        }
      },
      "source": [
        "plt.plot(range(epoch),losses, label='Loss vs Epoch')"
      ],
      "execution_count": 8,
      "outputs": [
        {
          "output_type": "execute_result",
          "data": {
            "text/plain": [
              "[<matplotlib.lines.Line2D at 0x7f088b1a84a8>]"
            ]
          },
          "metadata": {
            "tags": []
          },
          "execution_count": 8
        },
        {
          "output_type": "display_data",
          "data": {
            "image/png": "[encoded data removed]",
            "text/plain": [
              "<Figure size 432x288 with 1 Axes>"
            ]
          },
          "metadata": {
            "tags": []
          }
        }
      ]
    },
    {
      "cell_type": "markdown",
      "metadata": {
        "id": "eVDjM4ExTSSH",
        "colab_type": "text"
      },
      "source": [
        "\n",
        "\n",
        "*   ## Print number of parameters\n"
      ]
    },
    {
      "cell_type": "code",
      "metadata": {
        "id": "4Mqyox3fb_hX",
        "colab_type": "code",
        "outputId": "eca54553-c606-4c70-b907-79e38347fb7a",
        "colab": {
          "base_uri": "https://localhost:8080/",
          "height": 121
        }
      },
      "source": [
        "params = list(net.parameters())\n",
        "for p in params:\n",
        "  print(p.shape)\n"
      ],
      "execution_count": 15,
      "outputs": [
        {
          "output_type": "stream",
          "text": [
            "torch.Size([20, 1, 3, 3])\n",
            "torch.Size([20])\n",
            "torch.Size([128, 3380])\n",
            "torch.Size([128])\n",
            "torch.Size([10, 128])\n",
            "torch.Size([10])\n"
          ],
          "name": "stdout"
        }
      ]
    },
    {
      "cell_type": "code",
      "metadata": {
        "id": "sZ-UkF84D3-K",
        "colab_type": "code",
        "outputId": "5f6f71a6-5816-4a31-c89c-1e2aafcf2129",
        "colab": {
          "base_uri": "https://localhost:8080/",
          "height": 86
        }
      },
      "source": [
        "print(loss.grad_fn)  # Crossentropy\n",
        "print(loss.grad_fn.next_functions[0][0])  # Softmax\n",
        "print(loss.grad_fn.next_functions[0][0].next_functions[0][0])  # FC2\n",
        "print(loss.grad_fn.next_functions[0][0].next_functions[0][0].next_functions[0][0])  # ReLU"
      ],
      "execution_count": 10,
      "outputs": [
        {
          "output_type": "stream",
          "text": [
            "<NllLossBackward object at 0x7f088b1ccf28>\n",
            "<LogSoftmaxBackward object at 0x7f088b1ccf60>\n",
            "<SoftmaxBackward object at 0x7f088b1ccf28>\n",
            "<AddmmBackward object at 0x7f088b1ccf60>\n"
          ],
          "name": "stdout"
        }
      ]
    },
    {
      "cell_type": "markdown",
      "metadata": {
        "id": "Fis6AmOPWkz_",
        "colab_type": "text"
      },
      "source": [
        "### Test the model"
      ]
    },
    {
      "cell_type": "code",
      "metadata": {
        "id": "P7TM3tWoHUJ7",
        "colab_type": "code",
        "outputId": "b99d9114-5fc0-498b-8e5c-2dd036b75c7f",
        "colab": {
          "base_uri": "https://localhost:8080/",
          "height": 69
        }
      },
      "source": [
        "testloader=torch.utils.data.DataLoader(testset, batch_size=32, shuffle=False)\n",
        "testnet = Net()\n",
        "testnet.load_state_dict(torch.load(PATH))\n",
        "total=0\n",
        "correct=0\n",
        "for i,data in enumerate(testloader,0):\n",
        "  inputs,labels = data\n",
        "  outputs = testnet(inputs)\n",
        "  _, predicted = torch.max(outputs.data, 1)\n",
        "  total += labels.size(0)\n",
        "  correct += (predicted == labels).sum().item()\n",
        "\n",
        "print(f'Accuracy of the network on the {testset.data.size()[0]} test images: {100 * correct / total}')"
      ],
      "execution_count": 11,
      "outputs": [
        {
          "output_type": "stream",
          "text": [
            "/usr/local/lib/python3.6/dist-packages/ipykernel_launcher.py:12: UserWarning: Implicit dimension choice for softmax has been deprecated. Change the call to include dim=X as an argument.\n",
            "  if sys.path[0] == '':\n"
          ],
          "name": "stderr"
        },
        {
          "output_type": "stream",
          "text": [
            "Accuracy of the network on the 10000 test images: 98.58\n"
          ],
          "name": "stdout"
        }
      ]
    },
    {
      "cell_type": "markdown",
      "metadata": {
        "id": "QeRJTYeqWw23",
        "colab_type": "text"
      },
      "source": [
        "#Extras:\n",
        "\n",
        "### Try different batch sizes and observe the model performance"
      ]
    },
    {
      "cell_type": "code",
      "metadata": {
        "id": "zurB7fymbAkl",
        "colab_type": "code",
        "outputId": "374c69a8-9be1-4b80-a75f-c33529406b00",
        "colab": {
          "base_uri": "https://localhost:8080/",
          "height": 156
        }
      },
      "source": [
        "batch_sizes=[32,64,96,128]\n",
        "criterion = nn.CrossEntropyLoss()\n",
        "n_epochs = 20\n",
        "accuracy=[]\n",
        "losses =[]\n",
        "batch_time = []\n",
        "for b in batch_sizes:\n",
        "  net = Net()\n",
        "  optimizer = optim.SGD(net.parameters(), lr=0.01)\n",
        "  delta = 0.0005\n",
        "  grad = 0\n",
        "  pre_grad = -1\n",
        "  pre_loss = -10\n",
        "  start_time = time.time()\n",
        "  for epoch in range(n_epochs):\n",
        "    if( abs(grad-pre_grad) < delta ):\n",
        "      print(f'Model converged at epoch={epoch}')\n",
        "      break\n",
        "    cost=0\n",
        "    total=0\n",
        "    correct=0\n",
        "    trainloader=torch.utils.data.DataLoader(trainset, batch_size=b, shuffle=True)\n",
        "    for i, data in enumerate(trainloader, 0):\n",
        "      inputs, labels = data\n",
        "      optimizer.zero_grad()\n",
        "      outputs = net(inputs)\n",
        "      loss=criterion(outputs, labels)\n",
        "      pre_grad = grad\n",
        "      grad = loss-pre_loss\n",
        "      pre_loss = loss\n",
        "      loss.backward()\n",
        "      optimizer.step()\n",
        "      _, predicted = torch.max(outputs.data, 1)\n",
        "      total += labels.size(0)\n",
        "      correct += (predicted == labels).sum().item()\n",
        "      cost += loss.item()\n",
        "    losses.append(cost/i)\n",
        "  end_time = time.time()  #Model converged\n",
        "  elapsed_time = end_time - start_time  # Total time elapsed while converging\n",
        "  batch_time.append(elapsed_time)\n",
        "  print(f'batch: {b}, loss: {cost/(i+1)}, Accuracy:  {100 * correct / total}')\n",
        "  accuracy.append(100 * correct / total)\n",
        "print(f'Finished Training at epoch {epoch}')"
      ],
      "execution_count": 16,
      "outputs": [
        {
          "output_type": "stream",
          "text": [
            "/usr/local/lib/python3.6/dist-packages/ipykernel_launcher.py:12: UserWarning: Implicit dimension choice for softmax has been deprecated. Change the call to include dim=X as an argument.\n",
            "  if sys.path[0] == '':\n"
          ],
          "name": "stderr"
        },
        {
          "output_type": "stream",
          "text": [
            "Model converged at epoch=6\n",
            "batch: 32, loss: 1.5390656495412192, Accuracy:  93.14\n",
            "batch: 64, loss: 1.5064784100314956, Accuracy:  96.06666666666666\n",
            "batch: 96, loss: 1.597285542488098, Accuracy:  86.855\n",
            "batch: 128, loss: 1.6895304903038528, Accuracy:  77.41166666666666\n",
            "Finished Training at epoch 19\n"
          ],
          "name": "stdout"
        }
      ]
    },
    {
      "cell_type": "code",
      "metadata": {
        "id": "S8iCqJ_AJRlQ",
        "colab_type": "code",
        "outputId": "a122c7df-2edc-4e39-aab9-f473257e0363",
        "colab": {
          "base_uri": "https://localhost:8080/",
          "height": 282
        }
      },
      "source": [
        "plt.plot(batch_sizes,batch_time)"
      ],
      "execution_count": 17,
      "outputs": [
        {
          "output_type": "execute_result",
          "data": {
            "text/plain": [
              "[<matplotlib.lines.Line2D at 0x7f0882243978>]"
            ]
          },
          "metadata": {
            "tags": []
          },
          "execution_count": 17
        },
        {
          "output_type": "display_data",
          "data": {
            "image/png": "[encoded data removed]",
            "text/plain": [
              "<Figure size 432x288 with 1 Axes>"
            ]
          },
          "metadata": {
            "tags": []
          }
        }
      ]
    },
    {
      "cell_type": "code",
      "metadata": {
        "id": "ksuk0dAArD6J",
        "colab_type": "code",
        "outputId": "a530a4fa-4a8d-4f25-8b85-3bb5f9b9b555",
        "colab": {
          "base_uri": "https://localhost:8080/",
          "height": 1000
        }
      },
      "source": [
        "net = Net()\n",
        "criterion = nn.CrossEntropyLoss()\n",
        "optimizer = optim.SGD(net.parameters(), lr=0.09)\n",
        "n_epochs = 20\n",
        "accuracy=[]\n",
        "losses =[]\n",
        "delta = 0.0005\n",
        "grad = 0\n",
        "pre_grad = -1\n",
        "pre_loss = -10\n",
        "for epoch in range(n_epochs):\n",
        "  if( abs(grad-pre_grad) < delta ):\n",
        "      print(f'Model converged at epoch={epoch}')\n",
        "      break\n",
        "  cost=0\n",
        "  total=0\n",
        "  correct=0\n",
        "  trainloader=torch.utils.data.DataLoader(trainset, batch_size=32, shuffle=True)\n",
        "  for i, data in enumerate(trainloader, 0):\n",
        "    inputs, labels = data\n",
        "    optimizer.zero_grad()\n",
        "    outputs = net(inputs)\n",
        "    loss=criterion(outputs, labels)\n",
        "    pre_grad = grad\n",
        "    grad = loss-pre_loss\n",
        "    pre_loss = loss\n",
        "    loss.backward()\n",
        "    optimizer.step()\n",
        "    _, predicted = torch.max(outputs.data, 1)\n",
        "    total += labels.size(0)\n",
        "    correct += (predicted == labels).sum().item()\n",
        "    cost+=loss.item()\n",
        "    if(i%1000 == 0):\n",
        "      print(f'epoch: {epoch+1}, batch: {i}, loss: {cost/(i+1)}')\n",
        "  losses.append(cost/i)\n",
        "  print(f'epoch: {epoch+1}, batch: {i}, loss: {cost/(i+1)}, Accuracy:  {100 * correct / total}')\n",
        "  accuracy.append(100 * correct / total)\n",
        "print(f'Finished Training SGD at epoch {epoch}')\n",
        "plt.plot(range(epoch),losses)"
      ],
      "execution_count": 18,
      "outputs": [
        {
          "output_type": "stream",
          "text": [
            "/usr/local/lib/python3.6/dist-packages/ipykernel_launcher.py:12: UserWarning: Implicit dimension choice for softmax has been deprecated. Change the call to include dim=X as an argument.\n",
            "  if sys.path[0] == '':\n"
          ],
          "name": "stderr"
        },
        {
          "output_type": "stream",
          "text": [
            "epoch: 1, batch: 0, loss: 2.2997989654541016\n",
            "epoch: 1, batch: 1000, loss: 1.6911649018019943\n",
            "epoch: 1, batch: 1874, loss: 1.6136433687845866, Accuracy:  86.465\n",
            "epoch: 2, batch: 0, loss: 1.4729719161987305\n",
            "epoch: 2, batch: 1000, loss: 1.506114696884727\n",
            "epoch: 2, batch: 1874, loss: 1.5023017833709718, Accuracy:  96.325\n",
            "epoch: 3, batch: 0, loss: 1.4676884412765503\n",
            "epoch: 3, batch: 1000, loss: 1.4913146551791485\n",
            "epoch: 3, batch: 1874, loss: 1.489871529006958, Accuracy:  97.44166666666666\n",
            "epoch: 4, batch: 0, loss: 1.5072842836380005\n",
            "epoch: 4, batch: 1000, loss: 1.4844996022892285\n",
            "epoch: 4, batch: 1874, loss: 1.4840012715657551, Accuracy:  97.93166666666667\n",
            "epoch: 5, batch: 0, loss: 1.4661283493041992\n",
            "epoch: 5, batch: 1000, loss: 1.4800268855842795\n",
            "epoch: 5, batch: 1874, loss: 1.4799933495203654, Accuracy:  98.32166666666667\n",
            "epoch: 6, batch: 0, loss: 1.4621502161026\n",
            "epoch: 6, batch: 1000, loss: 1.477778140957896\n",
            "epoch: 6, batch: 1874, loss: 1.4770448499043782, Accuracy:  98.62166666666667\n",
            "epoch: 7, batch: 0, loss: 1.4989341497421265\n",
            "epoch: 7, batch: 1000, loss: 1.4746666473823113\n",
            "epoch: 7, batch: 1874, loss: 1.475471787071228, Accuracy:  98.73833333333333\n",
            "epoch: 8, batch: 0, loss: 1.4921128749847412\n",
            "epoch: 8, batch: 1000, loss: 1.4734757189507728\n",
            "epoch: 8, batch: 1874, loss: 1.4736177936553956, Accuracy:  98.875\n",
            "epoch: 9, batch: 0, loss: 1.4619370698928833\n",
            "epoch: 9, batch: 1000, loss: 1.4721192520457904\n",
            "epoch: 9, batch: 1874, loss: 1.47238646774292, Accuracy:  99.00666666666666\n",
            "epoch: 10, batch: 0, loss: 1.4612648487091064\n",
            "epoch: 10, batch: 1000, loss: 1.470903536180159\n",
            "epoch: 10, batch: 1874, loss: 1.471143594233195, Accuracy:  99.13\n",
            "epoch: 11, batch: 0, loss: 1.4616169929504395\n",
            "epoch: 11, batch: 1000, loss: 1.4703150276656631\n",
            "epoch: 11, batch: 1874, loss: 1.470397571627299, Accuracy:  99.17666666666666\n",
            "epoch: 12, batch: 0, loss: 1.461186408996582\n",
            "epoch: 12, batch: 1000, loss: 1.4696514251587036\n",
            "epoch: 12, batch: 1874, loss: 1.469456800587972, Accuracy:  99.25666666666666\n",
            "epoch: 13, batch: 0, loss: 1.4614979028701782\n",
            "epoch: 13, batch: 1000, loss: 1.4681018551627358\n",
            "epoch: 13, batch: 1874, loss: 1.4687221407572428, Accuracy:  99.34333333333333\n",
            "epoch: 14, batch: 0, loss: 1.4612125158309937\n",
            "epoch: 14, batch: 1000, loss: 1.4681459824879328\n",
            "epoch: 14, batch: 1874, loss: 1.4680911134084065, Accuracy:  99.39666666666666\n",
            "epoch: 15, batch: 0, loss: 1.4611856937408447\n",
            "epoch: 15, batch: 1000, loss: 1.4675264075085834\n",
            "epoch: 15, batch: 1874, loss: 1.467471392504374, Accuracy:  99.44833333333334\n",
            "Model converged at epoch=15\n",
            "Finished Training SGD at epoch 15\n"
          ],
          "name": "stdout"
        },
        {
          "output_type": "execute_result",
          "data": {
            "text/plain": [
              "[<matplotlib.lines.Line2D at 0x7f088b2bbef0>]"
            ]
          },
          "metadata": {
            "tags": []
          },
          "execution_count": 18
        },
        {
          "output_type": "display_data",
          "data": {
            "image/png": "[encoded data removed]",
            "text/plain": [
              "<Figure size 432x288 with 1 Axes>"
            ]
          },
          "metadata": {
            "tags": []
          }
        }
      ]
    },
    {
      "cell_type": "markdown",
      "metadata": {
        "id": "ZXzFVMd7PF1e",
        "colab_type": "text"
      },
      "source": [
        "### Let's try Adam Optimizer"
      ]
    },
    {
      "cell_type": "code",
      "metadata": {
        "id": "DxZ3aDPzr470",
        "colab_type": "code",
        "outputId": "98c0d334-b142-4bdc-aca4-c5bee052c0e8",
        "colab": {
          "base_uri": "https://localhost:8080/",
          "height": 936
        }
      },
      "source": [
        "net = Net()\n",
        "print(net)\n",
        "criterion = nn.CrossEntropyLoss()\n",
        "print('Adam')\n",
        "optimizer = optim.Adam(net.parameters(), lr=0.01)\n",
        "n_epochs = 30\n",
        "accuracy=[]\n",
        "losses =[]\n",
        "delta = 0.0005\n",
        "grad = 0\n",
        "pre_grad = -1\n",
        "pre_loss = -10\n",
        "for epoch in range(n_epochs):\n",
        "  if( abs(grad-pre_grad) < delta ):\n",
        "      print(f'Model converged at epoch={epoch}')\n",
        "      break\n",
        "  cost=0\n",
        "  total=0\n",
        "  correct=0\n",
        "  trainloader=torch.utils.data.DataLoader(trainset, batch_size=32, shuffle=True)\n",
        "  for i, data in enumerate(trainloader, 0):\n",
        "    inputs, labels = data\n",
        "    optimizer.zero_grad()\n",
        "    outputs = net(inputs)\n",
        "    loss=criterion(outputs, labels)\n",
        "    pre_grad = grad\n",
        "    grad = loss-pre_loss\n",
        "    pre_loss = loss\n",
        "    loss.backward()\n",
        "    optimizer.step()\n",
        "    _, predicted = torch.max(outputs.data, 1)\n",
        "    total += labels.size(0)\n",
        "    correct += (predicted == labels).sum().item()\n",
        "    cost+=loss.item()\n",
        "    if(i%1000 == 0):\n",
        "      print(f'epoch: {epoch+1}, batch: {i}, loss: {cost/(i+1)}')\n",
        "  losses.append(cost/i)\n",
        "  print(f'epoch: {epoch+1}, batch: {i}, loss: {cost/(i+1)}, Accuracy:  {100 * correct / total}')\n",
        "  accuracy.append(100 * correct / total)\n",
        "print(f'Finished Training Adam at epoch {epoch}')\n",
        "plt.plot(range(epoch),losses)"
      ],
      "execution_count": 19,
      "outputs": [
        {
          "output_type": "stream",
          "text": [
            "Net(\n",
            "  (conv1): Conv2d(1, 20, kernel_size=(3, 3), stride=(1, 1))\n",
            "  (fc1): Linear(in_features=3380, out_features=128, bias=True)\n",
            "  (fc2): Linear(in_features=128, out_features=10, bias=True)\n",
            ")\n",
            "Adam\n",
            "epoch: 1, batch: 0, loss: 2.3053195476531982\n"
          ],
          "name": "stdout"
        },
        {
          "output_type": "stream",
          "text": [
            "/usr/local/lib/python3.6/dist-packages/ipykernel_launcher.py:12: UserWarning: Implicit dimension choice for softmax has been deprecated. Change the call to include dim=X as an argument.\n",
            "  if sys.path[0] == '':\n"
          ],
          "name": "stderr"
        },
        {
          "output_type": "stream",
          "text": [
            "epoch: 1, batch: 1000, loss: 2.347670393152075\n",
            "epoch: 1, batch: 1874, loss: 2.348834041849772, Accuracy:  11.221666666666666\n",
            "epoch: 2, batch: 0, loss: 2.398650884628296\n",
            "epoch: 2, batch: 1000, loss: 2.346858801779809\n",
            "epoch: 2, batch: 1874, loss: 2.348784093093872, Accuracy:  11.236666666666666\n",
            "epoch: 3, batch: 0, loss: 2.336150884628296\n",
            "epoch: 3, batch: 1000, loss: 2.3482012053231496\n",
            "epoch: 3, batch: 1874, loss: 2.3487840881347655, Accuracy:  11.236666666666666\n",
            "epoch: 4, batch: 0, loss: 2.398650884628296\n",
            "epoch: 4, batch: 1000, loss: 2.3480138940649193\n",
            "epoch: 4, batch: 1874, loss: 2.348784091059367, Accuracy:  11.236666666666666\n",
            "epoch: 5, batch: 0, loss: 2.211150646209717\n",
            "epoch: 5, batch: 1000, loss: 2.349044115512402\n",
            "epoch: 5, batch: 1874, loss: 2.348784093093872, Accuracy:  11.236666666666666\n",
            "epoch: 6, batch: 0, loss: 2.336150646209717\n",
            "epoch: 6, batch: 1000, loss: 2.34879436430993\n",
            "epoch: 6, batch: 1874, loss: 2.3487840914408364, Accuracy:  11.236666666666666\n",
            "epoch: 7, batch: 0, loss: 2.304900646209717\n",
            "epoch: 7, batch: 1000, loss: 2.3487631505304996\n",
            "epoch: 7, batch: 1874, loss: 2.348784092839559, Accuracy:  11.236666666666666\n",
            "epoch: 8, batch: 0, loss: 2.336150646209717\n",
            "epoch: 8, batch: 1000, loss: 2.349418741839749\n",
            "epoch: 8, batch: 1874, loss: 2.3487840936024984, Accuracy:  11.236666666666666\n",
            "epoch: 9, batch: 0, loss: 2.211150646209717\n",
            "epoch: 9, batch: 1000, loss: 2.347514395947223\n",
            "epoch: 9, batch: 1874, loss: 2.348784094365438, Accuracy:  11.236666666666666\n",
            "Model converged at epoch=9\n",
            "Finished Training Adam at epoch 9\n"
          ],
          "name": "stdout"
        },
        {
          "output_type": "execute_result",
          "data": {
            "text/plain": [
              "[<matplotlib.lines.Line2D at 0x7f088270ff60>]"
            ]
          },
          "metadata": {
            "tags": []
          },
          "execution_count": 19
        },
        {
          "output_type": "display_data",
          "data": {
            "image/png": "[encoded data removed]",
            "text/plain": [
              "<Figure size 432x288 with 1 Axes>"
            ]
          },
          "metadata": {
            "tags": []
          }
        }
      ]
    },
    {
      "cell_type": "markdown",
      "metadata": {
        "id": "DFUYU7JPXBH-",
        "colab_type": "text"
      },
      "source": [
        "### Try Adagrad and observe the model performance on training"
      ]
    },
    {
      "cell_type": "code",
      "metadata": {
        "id": "ljCyW49fsDcT",
        "colab_type": "code",
        "colab": {
          "base_uri": "https://localhost:8080/",
          "height": 786
        },
        "outputId": "f3f1dbf7-cea0-4d97-82ea-122e70377402"
      },
      "source": [
        "print('Adagrad')\n",
        "net = Net()\n",
        "criterion = nn.CrossEntropyLoss()\n",
        "optimizer = optim.Adagrad(net.parameters(), lr=0.01)\n",
        "n_epochs = 30\n",
        "accuracy=[]\n",
        "losses =[]\n",
        "delta = 0.0005\n",
        "grad = 0\n",
        "pre_grad = -1\n",
        "pre_loss = -10\n",
        "for epoch in range(n_epochs):\n",
        "  if( abs(grad-pre_grad) < delta ):\n",
        "      print(f'Model converged at epoch={epoch}')\n",
        "      break\n",
        "  cost=0\n",
        "  total=0\n",
        "  correct=0\n",
        "  trainloader=torch.utils.data.DataLoader(trainset, batch_size=32, shuffle=True)\n",
        "  for i, data in enumerate(trainloader, 0):\n",
        "    inputs, labels = data\n",
        "    optimizer.zero_grad()\n",
        "    outputs = net(inputs)\n",
        "    loss=criterion(outputs, labels)\n",
        "    pre_grad = grad\n",
        "    grad = loss-pre_loss\n",
        "    pre_loss = loss\n",
        "    loss.backward()\n",
        "    optimizer.step()\n",
        "    _, predicted = torch.max(outputs.data, 1)\n",
        "    total += labels.size(0)\n",
        "    correct += (predicted == labels).sum().item()\n",
        "    cost+=loss.item()\n",
        "    if(i%1000 == 0):\n",
        "      print(f'epoch: {epoch+1}, batch: {i}, loss: {cost/(i+1)}')\n",
        "  losses.append(cost/i)\n",
        "  print(f'epoch: {epoch+1}, batch: {i}, loss: {cost/(i+1)}, Accuracy:  {100 * correct / total}')\n",
        "  accuracy.append(100 * correct / total)\n",
        "print(f'Finished Training adagrad at epoch {epoch}')\n",
        "plt.plot(range(epoch),losses)"
      ],
      "execution_count": 21,
      "outputs": [
        {
          "output_type": "stream",
          "text": [
            "Adagrad\n",
            "epoch: 1, batch: 0, loss: 2.304615020751953\n"
          ],
          "name": "stdout"
        },
        {
          "output_type": "stream",
          "text": [
            "/usr/local/lib/python3.6/dist-packages/ipykernel_launcher.py:12: UserWarning: Implicit dimension choice for softmax has been deprecated. Change the call to include dim=X as an argument.\n",
            "  if sys.path[0] == '':\n"
          ],
          "name": "stderr"
        },
        {
          "output_type": "stream",
          "text": [
            "epoch: 1, batch: 1000, loss: 1.760649944161559\n",
            "epoch: 1, batch: 1874, loss: 1.7248217513402304, Accuracy:  73.83166666666666\n",
            "epoch: 2, batch: 0, loss: 1.5236437320709229\n",
            "epoch: 2, batch: 1000, loss: 1.6789054655052207\n",
            "epoch: 2, batch: 1874, loss: 1.6751836675008138, Accuracy:  78.46666666666667\n",
            "epoch: 3, batch: 0, loss: 1.5334187746047974\n",
            "epoch: 3, batch: 1000, loss: 1.670747901057149\n",
            "epoch: 3, batch: 1874, loss: 1.6695941993077597, Accuracy:  78.90166666666667\n",
            "epoch: 4, batch: 0, loss: 1.8022840023040771\n",
            "epoch: 4, batch: 1000, loss: 1.663798438323723\n",
            "epoch: 4, batch: 1874, loss: 1.6664746950149536, Accuracy:  79.12166666666667\n",
            "epoch: 5, batch: 0, loss: 1.5991986989974976\n",
            "epoch: 5, batch: 1000, loss: 1.641064048647047\n",
            "epoch: 5, batch: 1874, loss: 1.6049674858093261, Accuracy:  85.59166666666667\n",
            "epoch: 6, batch: 0, loss: 1.5211986303329468\n",
            "epoch: 6, batch: 1000, loss: 1.4852913616896866\n",
            "epoch: 6, batch: 1874, loss: 1.48330350189209, Accuracy:  98.225\n",
            "epoch: 7, batch: 0, loss: 1.500754475593567\n",
            "epoch: 7, batch: 1000, loss: 1.4780360767534086\n",
            "epoch: 7, batch: 1874, loss: 1.4779617823282878, Accuracy:  98.67166666666667\n",
            "epoch: 8, batch: 0, loss: 1.4641081094741821\n",
            "epoch: 8, batch: 1000, loss: 1.4759273444498693\n",
            "epoch: 8, batch: 1874, loss: 1.4755035261789957, Accuracy:  98.90333333333334\n",
            "Model converged at epoch=8\n",
            "Finished Training adagrad at epoch 8\n"
          ],
          "name": "stdout"
        },
        {
          "output_type": "execute_result",
          "data": {
            "text/plain": [
              "[<matplotlib.lines.Line2D at 0x7f08823af470>]"
            ]
          },
          "metadata": {
            "tags": []
          },
          "execution_count": 21
        },
        {
          "output_type": "display_data",
          "data": {
            "image/png": "[encoded data removed]",
            "text/plain": [
              "<Figure size 432x288 with 1 Axes>"
            ]
          },
          "metadata": {
            "tags": []
          }
        }
      ]
    }
  ]
}