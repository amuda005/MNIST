{
  "nbformat": 4,
  "nbformat_minor": 0,
  "metadata": {
    "colab": {
      "name": "ThresholdAUC.ipynb",
      "provenance": [],
      "collapsed_sections": [],
      "include_colab_link": true
    },
    "kernelspec": {
      "name": "python3",
      "display_name": "Python 3"
    }
  },
  "cells": [
    {
      "cell_type": "markdown",
      "metadata": {
        "id": "view-in-github",
        "colab_type": "text"
      },
      "source": [
        "<a href=\"https://colab.research.google.com/github/amuda005/randomfun/blob/master/ThresholdAUC.ipynb\" target=\"_parent\"><img src=\"https://colab.research.google.com/assets/colab-badge.svg\" alt=\"Open In Colab\"/></a>"
      ]
    },
    {
      "cell_type": "code",
      "metadata": {
        "id": "pgSBPcUOp7UM",
        "colab_type": "code",
        "colab": {}
      },
      "source": [
        "import torch\n",
        "import torch.nn as nn\n",
        "import torch.nn.functional as F\n",
        "import torch.optim as optim\n",
        "import torchvision\n",
        "import torchvision.transforms as transforms\n",
        "import numpy as np\n",
        "import matplotlib.pyplot as plt\n",
        "from sklearn.metrics import roc_auc_score"
      ],
      "execution_count": 0,
      "outputs": []
    },
    {
      "cell_type": "code",
      "metadata": {
        "id": "1mPDI-5vOXHG",
        "colab_type": "code",
        "colab": {}
      },
      "source": [
        "#Converting images to tensor and normalizing them\n",
        "generic_transform = transforms.Compose([transforms.ToTensor(), transforms.Normalize((0.5,),(0.5,))])\n",
        "#importing mnist data\n",
        "train_set = torchvision.datasets.MNIST(root='./data', train=True, download=True,transform=generic_transform)\n",
        "testset = torchvision.datasets.MNIST(root='./data', train=False, download=True,transform=generic_transform)\n",
        "\n",
        "#extracting two classes - 4 & 8\n",
        "idx = train_set.targets==4\n",
        "idx +=train_set.targets==8\n",
        "train_set.targets=np.multiply(train_set.targets[idx] > 4,1) #reindexing class 4 and 8 to 0 and 1 for compatibility with cross-entropy\n",
        "train_set.data=train_set.data[idx]\n",
        "print(f'size of training data with 4 and 8 classes: {len(train_set.targets)}')\n",
        "idx=testset.targets==4\n",
        "idx+=testset.targets==8\n",
        "testset.targets=np.multiply(testset.targets[idx] > 4,1)\n",
        "testset.data=testset.data[idx]\n",
        "\n",
        "#splitting data for checking generalizability of model\n",
        "train_set, true_set = torch.utils.data.random_split(train_set, [9693, 2000])\n",
        "trainloader=torch.utils.data.DataLoader(train_set, batch_size=32, shuffle=True)\n",
        "testloader=torch.utils.data.DataLoader(testset, batch_size=32, shuffle=False)\n",
        "truesetloader=torch.utils.data.DataLoader(true_set, batch_size=32, shuffle=False) "
      ],
      "execution_count": 0,
      "outputs": []
    },
    {
      "cell_type": "markdown",
      "metadata": {
        "id": "ucGj2VFrwlgh",
        "colab_type": "text"
      },
      "source": [
        ""
      ]
    },
    {
      "cell_type": "code",
      "metadata": {
        "id": "rDuPbwx-rJIy",
        "colab_type": "code",
        "colab": {}
      },
      "source": [
        "print(f'size of train dataset: {len(train_set.indices)}')\n",
        "print(f'size of test dataset: {len(testset.targets)}')\n",
        "print(f'size of true perf dataset: {len(true_set.indices)}')"
      ],
      "execution_count": 0,
      "outputs": []
    },
    {
      "cell_type": "code",
      "metadata": {
        "id": "7UeYZAVpOb8r",
        "colab_type": "code",
        "colab": {}
      },
      "source": [
        "class Net(nn.Module):\n",
        "  def __init__(self):\n",
        "    super(Net, self).__init__()\n",
        "    self.conv1 = nn.Conv2d(1, 20, 3, bias= True)\n",
        "    self.fc1 = nn.Linear(20 * 13 * 13, 128)\n",
        "    self.fc2 = nn.Linear(128, 2, bias= True) #adjusting for two classes\n",
        "\n",
        "  def forward(self, x):\n",
        "    x = F.relu(F.max_pool2d(self.conv1(x), (2, 2)))\n",
        "    x = x.view(-1, self.num_flat_features(x))\n",
        "    x = F.relu(self.fc1(x))\n",
        "    x = F.softmax(self.fc2(x),dim=1)\n",
        "    return x\n",
        "\n",
        "  def num_flat_features(self, x):\n",
        "    size = x.size()[1:]  # all dimensions except the batch dimension\n",
        "    num_features = 1\n",
        "    for s in size:\n",
        "        num_features *= s\n",
        "    return num_features"
      ],
      "execution_count": 0,
      "outputs": []
    },
    {
      "cell_type": "code",
      "metadata": {
        "id": "_AMCFNKzXolS",
        "colab_type": "code",
        "colab": {}
      },
      "source": [
        "def predict(testnet,loader,k=0):\n",
        "  total=0\n",
        "  correct=0\n",
        "  preds = []\n",
        "  actual = []\n",
        "  for i,data in enumerate(loader):\n",
        "    inputs,labels = data\n",
        "    actual.extend(labels)\n",
        "    outputs = testnet(inputs)\n",
        "    _, predicted = torch.max(outputs.data, 1)\n",
        "    preds.extend(predicted)\n",
        "    total += labels.size(0)\n",
        "    correct += (predicted == labels).sum().item()\n",
        "    if(k !=0 and i>=k): \n",
        "      break\n",
        "  accuracy = 100 * correct / total\n",
        "  return preds,actual,accuracy"
      ],
      "execution_count": 0,
      "outputs": []
    },
    {
      "cell_type": "code",
      "metadata": {
        "id": "wC3YfrWUyvYU",
        "colab_type": "code",
        "colab": {}
      },
      "source": [
        "# run the model on test data and return auc score\n",
        "def naive_auc(model,loader,k=0):\n",
        "  preds,actual,test_acc = predict(model,loader,k)  \n",
        "  test_auc = roc_auc_score(actual,preds)\n",
        "  return test_auc"
      ],
      "execution_count": 0,
      "outputs": []
    },
    {
      "cell_type": "code",
      "metadata": {
        "id": "KJMhb0pTok_d",
        "colab_type": "code",
        "colab": {}
      },
      "source": [
        "no_of_rounds=10\n",
        "n_epochs = 10\n",
        "delta = 0.0005 #check for model convergence"
      ],
      "execution_count": 0,
      "outputs": []
    },
    {
      "cell_type": "code",
      "metadata": {
        "id": "_pUpRNLPhMZN",
        "colab_type": "code",
        "colab": {}
      },
      "source": [
        "test_aucs = []\n",
        "true_aucs = []\n",
        "train_aucs = []\n",
        "best_lrs = []\n",
        "lr=[0.9,0.5,0.1,0.09,0.05,0.01,0.009,0.005,0.001,0.0001]\n",
        "for r in range(no_of_rounds):#Rounds of adaptive learning\n",
        "  #Eliminating worst learning rate each round\n",
        "  max_test_auc= 0\n",
        "  max_train_auc = 0\n",
        "  worst_lr=0\n",
        "  best_lr=0\n",
        "  worst_test_auc=1.0\n",
        "  print(f'Round {r} : ')\n",
        "  k = 4800/32 + (r+1)*(500/32)\n",
        "  for l in lr:\n",
        "    net = Net()\n",
        "    criterion = nn.CrossEntropyLoss()\n",
        "    optimizer = optim.SGD(net.parameters(), lr=l)\n",
        "    grad = 0\n",
        "    pre_grad = -1\n",
        "    pre_loss = -10\n",
        "    for epoch in range(n_epochs):\n",
        "      if(abs(grad-pre_grad) < delta):\n",
        "          print(f'    Model converged at epoch={epoch+1}')\n",
        "          break\n",
        "      actual=[]\n",
        "      preds=[]\n",
        "      for i, data in enumerate(trainloader, 0):\n",
        "        inputs, labels = data\n",
        "        optimizer.zero_grad()\n",
        "        outputs = net(inputs)\n",
        "        loss=criterion(outputs, labels)\n",
        "        pre_grad = grad\n",
        "        grad = loss-pre_loss\n",
        "        pre_loss = loss\n",
        "        loss.backward()\n",
        "        optimizer.step()\n",
        "        _, predicted = torch.max(outputs.data, 1)\n",
        "        preds.extend(predicted.tolist())\n",
        "        actual.extend(labels.tolist())\n",
        "        if(i>=k):\n",
        "          break\n",
        "    with torch.no_grad():\n",
        "      train_auc = roc_auc_score(actual,preds)\n",
        "      t = naive_auc(net,testloader)\n",
        "      print(f'    Finished Training after epoch {epoch+1} for learning rate: {l}, batch: {i}, Training AUROC: {train_auc} Testing AUROC: {t}')    \n",
        "      if(worst_test_auc > t):\n",
        "        worst_test_auc = t\n",
        "        worst_lr = l\n",
        "      if(max_test_auc < t):\n",
        "        max_net = net\n",
        "        best_lr=l\n",
        "        max_test_auc = t\n",
        "        max_train_auc = train_auc\n",
        "  if(lr.count(worst_lr)>0):\n",
        "     lr.remove(worst_lr)\n",
        "  train_aucs.append(max_train_auc)\n",
        "  test_aucs.append(max_test_auc)\n",
        "  true_aucs.append(naive_auc(max_net,truesetloader))\n",
        "  best_lrs.append(best_lr)\n",
        "  print(f' Worst Learning rate:  {worst_lr} with test auc: {worst_test_auc}')    \n",
        "  print(f' Best Testing AUROC:  {max_test_auc} is for learning rate: {best_lr}')    \n",
        "  print(f' True AUROC:  {true_aucs}')    "
      ],
      "execution_count": 0,
      "outputs": []
    },
    {
      "cell_type": "code",
      "metadata": {
        "id": "0UnHnZr-xKph",
        "colab_type": "code",
        "colab": {}
      },
      "source": [
        "print(f'train performance: {train_aucs}')\n",
        "print(f'test performance: {test_aucs}')\n",
        "print(f'true performance: {true_aucs}')"
      ],
      "execution_count": 0,
      "outputs": []
    },
    {
      "cell_type": "code",
      "metadata": {
        "id": "GUlY9e06r23V",
        "colab_type": "code",
        "colab": {}
      },
      "source": [
        "plt.title(\"Naive AUC\")\n",
        "plt.xlim((0,10))\n",
        "plt.ylim((0.99,1))\n",
        "plt.plot(train_aucs,color='green',label=\"Training Performance\")\n",
        "plt.plot(test_aucs,color=\"red\",label=\"Testing Performance\")\n",
        "plt.plot(true_aucs,color=\"blue\",label=\"True Performance\")\n",
        "plt.legend(loc='lower left')\n",
        "plt.show()"
      ],
      "execution_count": 0,
      "outputs": []
    },
    {
      "cell_type": "code",
      "metadata": {
        "id": "6YmyKeniyvVF",
        "colab_type": "code",
        "colab": {}
      },
      "source": [
        "#Set threshold, budget\n",
        "#Function that takes model parameters and returns auc score according to thresholdout mechanism of c.dwork et.al\n",
        "B=7\n",
        "def thresholdout_auc(model,trainloader,k=0, T=0.02, sigma =0.03):\n",
        "#get the training data AUC by running 5-fold cross validation on the training data\n",
        "#check the difference between training and test data is greater than T(Threshold+noise) + noise\n",
        "  eps = np.random.laplace(sigma, 1)\n",
        "  neta = np.random.laplace(sigma*4,1)\n",
        "  gamma = np.random.laplace(2*sigma,1)\n",
        "  T1=T+gamma\n",
        "  train_auc=naive_auc(model,trainloader,k)\n",
        "  test_auc = naive_auc(model,testloader,0)\n",
        "  global B\n",
        "  if(np.abs(train_auc-test_auc)>(T1+neta) and B>0):\n",
        "    B=B-1\n",
        "    T1=T+gamma\n",
        "    test_auc=max(0,test_auc+eps)\n",
        "    test_auc=min(1,test_auc)\n",
        "    return test_auc\n",
        "  #if check is true return test auc+noise\n",
        "#decrease your budget of adaptive queries(#adaptive queries)\n",
        "#else return training auc\n",
        "  return train_auc"
      ],
      "execution_count": 0,
      "outputs": []
    },
    {
      "cell_type": "code",
      "metadata": {
        "colab_type": "code",
        "id": "aqKcYNU9t6yr",
        "colab": {
          "base_uri": "https://localhost:8080/",
          "height": 143
        },
        "outputId": "732d6c4a-e7c4-4b61-d58f-88787728855f"
      },
      "source": [
        "test_thresh_aucs = []\n",
        "true_thresh_aucs = []\n",
        "train_thresh_aucs = []\n",
        "best_thresh_lrs = []\n",
        "lr=[0.9,0.5,0.1,0.09,0.05,0.01,0.009,0.005,0.001,0.0001]\n",
        "B=7\n",
        "for r in range(no_of_rounds):#Rounds of adaptive learning\n",
        "  #Eliminating worst learning rate each round\n",
        "  max_test_auc= 0\n",
        "  max_train_auc = 0\n",
        "  worst_lr=0\n",
        "  best_lr=0\n",
        "  worst_test_auc=1.0\n",
        "  print(f'Round {r} : ')\n",
        "  k = 4800/32 + (r+1)*(500/32)\n",
        "  for l in lr:\n",
        "    net = Net()\n",
        "    criterion = nn.CrossEntropyLoss()\n",
        "    optimizer = optim.SGD(net.parameters(), lr=l)\n",
        "    grad = 0\n",
        "    pre_grad = -1\n",
        "    pre_loss = -10\n",
        "    for epoch in range(n_epochs):\n",
        "      if( abs(grad-pre_grad) < delta ):\n",
        "          print(f' Model converged at epoch={epoch+1}')\n",
        "          break\n",
        "      actual=[]\n",
        "      preds=[]\n",
        "      for i, data in enumerate(trainloader, 0):\n",
        "        inputs, labels = data\n",
        "        optimizer.zero_grad()\n",
        "        outputs = net(inputs)\n",
        "        loss=criterion(outputs, labels)\n",
        "        pre_grad = grad\n",
        "        grad = loss-pre_loss\n",
        "        pre_loss = loss\n",
        "        loss.backward()\n",
        "        optimizer.step()\n",
        "        _, predicted = torch.max(outputs.data, 1)\n",
        "        preds.extend(predicted.tolist())\n",
        "        actual.extend(labels.tolist())\n",
        "        if(i>=k):\n",
        "          break\n",
        "    with torch.no_grad():\n",
        "      train_auc = roc_auc_score(actual,preds)\n",
        "      t = thresholdout_auc(net,trainloader)\n",
        "      print(f' Finished Training after epoch {epoch+1} for learning rate: {l}, batch: {i}, Training AUROC:  {train_auc}, Testing AUROC:  {t}')    \n",
        "      if(worst_test_auc > t):\n",
        "        worst_test_auc = t\n",
        "        worst_lr = l\n",
        "      if(max_test_auc < t):\n",
        "        max_net = net\n",
        "        best_lr=l\n",
        "        max_test_auc = t\n",
        "        max_train_auc = train_auc\n",
        "  if(lr.count(worst_lr)>0):\n",
        "     lr.remove(worst_lr)\n",
        "  train_thresh_aucs.append(max_train_auc)\n",
        "  test_thresh_aucs.append(max_test_auc)\n",
        "  true_thresh_aucs.append(naive_auc(max_net,truesetloader))\n",
        "  best_thresh_lrs.append(best_lr)\n",
        "  print(f' Worst Learning rate:  {worst_lr} with test auc: {worst_test_auc}')    \n",
        "  print(f' Best Testing AUROC:  {max_test_auc} is for learning rate: {best_lr}')    \n",
        "  print(f' True AUROC:  {true_thresh_aucs}')    "
      ],
      "execution_count": 0,
      "outputs": [
        {
          "output_type": "stream",
          "text": [
            " Finished Training after epoch 10 for learning rate: 0.1, batch: 182, Training AUROC:  0.9964129654650161, Testing AUROC:  0.9974209785529639\n",
            " Finished Training after epoch 10 for learning rate: 0.09, batch: 182, Training AUROC:  0.9965849311457359, Testing AUROC:  0.9977307676588092\n",
            " Finished Training after epoch 10 for learning rate: 0.05, batch: 182, Training AUROC:  0.9953802653596013, Testing AUROC:  0.996286043077992\n",
            " Model converged at epoch=6\n",
            " Finished Training after epoch 6 for learning rate: 0.01, batch: 182, Training AUROC:  0.9873305644096719, Testing AUROC:  0.9905081665287273\n",
            " Model converged at epoch=7\n",
            " Finished Training after epoch 7 for learning rate: 0.009, batch: 182, Training AUROC:  0.9877310246770077, Testing AUROC:  0.9877233214807549\n"
          ],
          "name": "stdout"
        }
      ]
    },
    {
      "cell_type": "code",
      "metadata": {
        "id": "PwnCh-Qe3yck",
        "colab_type": "code",
        "colab": {}
      },
      "source": [
        "print(f'train performance: {train_thresh_aucs}')\n",
        "print(f'test performance: {test_thresh_aucs}')\n",
        "print(f'true performance: {true_thresh_aucs}')"
      ],
      "execution_count": 0,
      "outputs": []
    },
    {
      "cell_type": "code",
      "metadata": {
        "id": "dCHzLT2ryvpF",
        "colab_type": "code",
        "colab": {}
      },
      "source": [
        "plt.title(\"Threshold AUC\")\n",
        "plt.xlim((0,10))\n",
        "plt.ylim((0.97,1.01))\n",
        "plt.plot(train_thresh_aucs,color='green',label=\"Train Perf\")\n",
        "plt.plot(test_thresh_aucs,color=\"red\",label=\"Test Perf\")\n",
        "plt.plot(true_thresh_aucs,color=\"blue\",label=\"True Perf\")\n",
        "plt.legend(loc='lower left')\n",
        "plt.show()"
      ],
      "execution_count": 0,
      "outputs": []
    }
  ]
}